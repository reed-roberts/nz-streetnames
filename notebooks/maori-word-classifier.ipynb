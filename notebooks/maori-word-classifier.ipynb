{
 "cells": [
  {
   "cell_type": "code",
   "execution_count": 13,
   "metadata": {
    "collapsed": true
   },
   "outputs": [],
   "source": [
    "%matplotlib inline\n",
    "import numpy as np\n",
    "import scipy\n",
    "import pandas as pd\n",
    "import matplotlib.pyplot as plt\n",
    "import seaborn as sns\n",
    "import pickle\n",
    "import sklearn\n",
    "import os\n",
    "import csv"
   ]
  },
  {
   "cell_type": "markdown",
   "metadata": {},
   "source": [
    "Importing Maori lexicon\n",
    "\n",
    "http://nzetc.victoria.ac.nz/tm/scholarly/tei-legalMaoriCorpus.html#legal_maori_lexicon.\n",
    "\n",
    "http://www.maori.info/maori_language.htm\n",
    "\n",
    "http://tereomaori.tki.org.nz/Teacher-tools/Te-Whakaipurangi-Rauemi/High-frequency-word-lists\n",
    "\n",
    "Removed macrons, parentheses etc from file in Sublime Text."
   ]
  },
  {
   "cell_type": "code",
   "execution_count": 422,
   "metadata": {
    "collapsed": false
   },
   "outputs": [],
   "source": [
    "maori_lexicon = set([])\n",
    "\n",
    "with open('../data/raw/maori_legal_lexicon.csv', 'rb') as f:\n",
    "    reader = csv.reader(f)\n",
    "    rough_list = list(reader)\n",
    "    for item in rough_list:\n",
    "        for word in item:\n",
    "            if (word!='' and ~word.isdigit()):\n",
    "                for i in word.split(' '):\n",
    "                    maori_lexicon.add(i.lower())\n",
    "f.close()\n",
    "\n",
    "with open('../data/raw/maori_lexicon.csv', 'rb') as f:\n",
    "    reader = csv.reader(f)\n",
    "    rough_list = list(reader)\n",
    "    for item in rough_list:\n",
    "        for word in item:\n",
    "            maori_lexicon.add(word.lower())\n",
    "f.close()\n",
    "\n",
    "#Need to remove single letters, 'no' and 'one' which are a common source of false positives            \n",
    "to_remove = ['','me','no','one','a','e','i','o','u']            \n",
    "\n",
    "for letter in to_remove:\n",
    "    maori_lexicon.remove(letter)"
   ]
  },
  {
   "cell_type": "markdown",
   "metadata": {},
   "source": [
    "Using a slightly edited verison of the first ~2000 from https://github.com/first20hours/google-10000-english/blob/master/20k.txt\n",
    "\n",
    "http://www.quietaffiliate.com/free-first-name-and-last-name-databases-csv-and-sql/"
   ]
  },
  {
   "cell_type": "code",
   "execution_count": 441,
   "metadata": {
    "collapsed": false
   },
   "outputs": [],
   "source": [
    "english_lexicon = set([])\n",
    "\n",
    "with open('../data/raw/english_lexicon_top_2000.csv', 'rb') as f:\n",
    "    reader = csv.reader(f)\n",
    "    rough_list = list(reader)\n",
    "    for wordlist in rough_list:\n",
    "        for word in wordlist:\n",
    "            english_lexicon.add(word.lower())\n",
    "f.close()\n",
    "            \n",
    "with open('../data/raw/CSV_Database_of_First_And_Last_Names/CSV_Database_of_First_Names.csv', 'rU') as f:\n",
    "    reader = csv.reader(f)\n",
    "    rough_list = list(reader)\n",
    "    for wordlist in rough_list:\n",
    "        for word in wordlist:\n",
    "            english_lexicon.add(word.lower())\n",
    "f.close()\n",
    "\n",
    "with open('../data/raw/CSV_Database_of_First_And_Last_Names/CSV_Database_of_Last_Names.csv', 'rU') as f:\n",
    "    reader = csv.reader(f)\n",
    "    rough_list = list(reader)\n",
    "    for wordlist in rough_list:\n",
    "        for word in wordlist:\n",
    "            english_lexicon.add(word.lower())  \n",
    "f.close()\n",
    "            \n",
    "with open('../data/raw/misclassified-as-maori.csv', 'rb') as f:\n",
    "    reader = csv.reader(f)\n",
    "    rough_list = list(reader)\n",
    "    for wordlist in rough_list:\n",
    "        for word in wordlist:\n",
    "            english_lexicon.add(word.lower())\n",
    "f.close()\n",
    "\n",
    "english_lexicon = english_lexicon.difference(maori_lexicon)"
   ]
  },
  {
   "cell_type": "code",
   "execution_count": 249,
   "metadata": {
    "collapsed": false
   },
   "outputs": [
    {
     "name": "stdout",
     "output_type": "stream",
     "text": [
      "93040\n"
     ]
    }
   ],
   "source": [
    "print len(english_lexicon)"
   ]
  },
  {
   "cell_type": "code",
   "execution_count": 147,
   "metadata": {
    "collapsed": false
   },
   "outputs": [],
   "source": [
    "def word2features(word,maori=True):\n",
    "    \"\"\"Returns a word length normalized vector of all letter frequencies and bigrams.\n",
    "       First entry is word, second is whether it is a Maori word or not.\"\"\"\n",
    "    if maori == True:\n",
    "        features = [word,1]\n",
    "    else:\n",
    "        features = [word,0]\n",
    "    word_length = len(word)\n",
    "    alphabet = ['a','b','c','d','e','f','g','h','i','j','k','l',\n",
    "                'm','n','o','p','q','r','s','t','u','v','w','y','z']\n",
    "    for letter in alphabet:\n",
    "        features.append(word.count(letter)/float(word_length))\n",
    "    for first_letter in alphabet:\n",
    "        for second_letter in alphabet:\n",
    "            features.append(word.count(first_letter+second_letter)/float(word_length))\n",
    "    return features"
   ]
  },
  {
   "cell_type": "code",
   "execution_count": 148,
   "metadata": {
    "collapsed": false
   },
   "outputs": [],
   "source": [
    "words = []\n",
    "for word in maori_lexicon:\n",
    "    words.append(word2features(word))\n",
    "for word in english_lexicon:\n",
    "    words.append(word2features(word,maori=False))"
   ]
  },
  {
   "cell_type": "code",
   "execution_count": 149,
   "metadata": {
    "collapsed": true
   },
   "outputs": [],
   "source": [
    "alphabet = ['a','b','c','d','e','f','g','h','i','j','k','l',\n",
    "            'm','n','o','p','q','r','s','t','u','v','w','y','z']\n",
    "column_names = ['word', 'maori_binary']\n",
    "for letter in alphabet:\n",
    "    column_names.append(letter)\n",
    "for first_letter in alphabet:\n",
    "    for second_letter in alphabet:\n",
    "        column_names.append(first_letter+second_letter)"
   ]
  },
  {
   "cell_type": "code",
   "execution_count": 150,
   "metadata": {
    "collapsed": false
   },
   "outputs": [
    {
     "name": "stdout",
     "output_type": "stream",
     "text": [
      "           word  maori_binary         a    b    c    d         e    f  \\\n",
      "0         ainga             1  0.400000  0.0  0.0  0.0  0.000000  0.0   \n",
      "1       kahore              1  0.142857  0.0  0.0  0.0  0.142857  0.0   \n",
      "2         putua             1  0.200000  0.0  0.0  0.0  0.000000  0.0   \n",
      "3        takahe             1  0.333333  0.0  0.0  0.0  0.166667  0.0   \n",
      "4  whakaminenga             1  0.250000  0.0  0.0  0.0  0.083333  0.0   \n",
      "\n",
      "          g         h ...    zp   zq   zr   zs   zt   zu   zv   zw   zy   zz  \n",
      "0  0.200000  0.000000 ...   0.0  0.0  0.0  0.0  0.0  0.0  0.0  0.0  0.0  0.0  \n",
      "1  0.000000  0.142857 ...   0.0  0.0  0.0  0.0  0.0  0.0  0.0  0.0  0.0  0.0  \n",
      "2  0.000000  0.000000 ...   0.0  0.0  0.0  0.0  0.0  0.0  0.0  0.0  0.0  0.0  \n",
      "3  0.000000  0.166667 ...   0.0  0.0  0.0  0.0  0.0  0.0  0.0  0.0  0.0  0.0  \n",
      "4  0.083333  0.083333 ...   0.0  0.0  0.0  0.0  0.0  0.0  0.0  0.0  0.0  0.0  \n",
      "\n",
      "[5 rows x 652 columns]\n"
     ]
    }
   ],
   "source": [
    "words_df = pd.DataFrame(words)\n",
    "words_df.columns = column_names\n",
    "print words_df.head()"
   ]
  },
  {
   "cell_type": "code",
   "execution_count": 265,
   "metadata": {
    "collapsed": false
   },
   "outputs": [],
   "source": [
    "X = words_df.drop(['word','maori_binary'],axis=1).values\n",
    "y = words_df['maori_binary']"
   ]
  },
  {
   "cell_type": "code",
   "execution_count": 264,
   "metadata": {
    "collapsed": false
   },
   "outputs": [],
   "source": [
    "import xgboost as xgb\n",
    "from sklearn.model_selection import StratifiedKFold\n",
    "from imblearn.under_sampling import RandomUnderSampler\n",
    "from imblearn.over_sampling import RandomOverSampler\n",
    "from sklearn.metrics import confusion_matrix"
   ]
  },
  {
   "cell_type": "code",
   "execution_count": 269,
   "metadata": {
    "collapsed": false
   },
   "outputs": [
    {
     "name": "stdout",
     "output_type": "stream",
     "text": [
      "[[88387  4654]\n",
      " [   13  2620]]\n"
     ]
    }
   ],
   "source": [
    "skf = StratifiedKFold(n_splits=5)\n",
    "skf.get_n_splits(X, y)\n",
    "cm = np.array([[0,0],[0,0]])\n",
    "for train_index, test_index in skf.split(X, y):\n",
    "    X_train, X_test = X[train_index], X[test_index]\n",
    "    y_train, y_test = y[train_index], y[test_index]\n",
    "    rus = RandomUnderSampler(ratio=0.3)\n",
    "    X_train, y_train = rus.fit_sample(X_train,y_train)\n",
    "    ros = RandomOverSampler()\n",
    "    X_train, y_train = ros.fit_sample(X_train,y_train)\n",
    "    model = xgb.XGBClassifier(max_depth=5, learning_rate=0.1, n_estimators=100, \\\n",
    "                              silent=True, objective='binary:logistic', nthread=-1, \\\n",
    "                              gamma=0, min_child_weight=1, max_delta_step=0, \\\n",
    "                              subsample=1, colsample_bytree=1, colsample_bylevel=1, \\\n",
    "                              reg_alpha=0, reg_lambda=1, scale_pos_weight=1, \\\n",
    "                              base_score=0.5, missing=None)\n",
    "    model.fit(X_train, y_train)\n",
    "    y_pred = model.predict(X_test)\n",
    "    cm += confusion_matrix(y_test, y_pred)\n",
    "print cm"
   ]
  },
  {
   "cell_type": "code",
   "execution_count": 160,
   "metadata": {
    "collapsed": false
   },
   "outputs": [
    {
     "data": {
      "text/plain": [
       "XGBClassifier(base_score=0.5, colsample_bylevel=1, colsample_bytree=1,\n",
       "       gamma=0, learning_rate=0.1, max_delta_step=0, max_depth=5,\n",
       "       min_child_weight=1, missing=None, n_estimators=100, nthread=-1,\n",
       "       objective='binary:logistic', reg_alpha=0, reg_lambda=1,\n",
       "       scale_pos_weight=1, seed=0, silent=True, subsample=1)"
      ]
     },
     "execution_count": 160,
     "metadata": {},
     "output_type": "execute_result"
    }
   ],
   "source": [
    "final_model = xgb.XGBClassifier(max_depth=5, learning_rate=0.1, n_estimators=100, \\\n",
    "                              silent=True, objective='binary:logistic', nthread=-1, \\\n",
    "                              gamma=0, min_child_weight=1, max_delta_step=0, \\\n",
    "                              subsample=1, colsample_bytree=1, colsample_bylevel=1, \\\n",
    "                              reg_alpha=0, reg_lambda=1, scale_pos_weight=1, \\\n",
    "                              base_score=0.5, missing=None)\n",
    "rus = RandomUnderSampler()\n",
    "X_train, y_train = rus.fit_sample(X,y)\n",
    "ros = RandomOverSampler()\n",
    "X_train, y_train = ros.fit_sample(X_train,y_train)\n",
    "final_model.fit(X_train, y_train)"
   ]
  },
  {
   "cell_type": "markdown",
   "metadata": {},
   "source": [
    "Which words does the model get wrong?"
   ]
  },
  {
   "cell_type": "code",
   "execution_count": 161,
   "metadata": {
    "collapsed": false,
    "scrolled": false
   },
   "outputs": [
    {
     "name": "stdout",
     "output_type": "stream",
     "text": [
      "['adze ', 'pl.', 'ripene', 'act', 'romalpa', 'henera']\n"
     ]
    },
    {
     "ename": "KeyboardInterrupt",
     "evalue": "",
     "output_type": "error",
     "traceback": [
      "\u001b[0;31m---------------------------------------------------------------------------\u001b[0m",
      "\u001b[0;31mKeyboardInterrupt\u001b[0m                         Traceback (most recent call last)",
      "\u001b[0;32m<ipython-input-161-75ca018b1d9c>\u001b[0m in \u001b[0;36m<module>\u001b[0;34m()\u001b[0m\n\u001b[1;32m     13\u001b[0m     \u001b[0mtest\u001b[0m\u001b[0;34m=\u001b[0m\u001b[0;34m[\u001b[0m\u001b[0;34m]\u001b[0m\u001b[0;34m\u001b[0m\u001b[0m\n\u001b[1;32m     14\u001b[0m     \u001b[0mtest\u001b[0m\u001b[0;34m.\u001b[0m\u001b[0mappend\u001b[0m\u001b[0;34m(\u001b[0m\u001b[0mword2features\u001b[0m\u001b[0;34m(\u001b[0m\u001b[0mword\u001b[0m\u001b[0;34m)\u001b[0m\u001b[0;34m)\u001b[0m\u001b[0;34m\u001b[0m\u001b[0m\n\u001b[0;32m---> 15\u001b[0;31m     \u001b[0mtest_df\u001b[0m \u001b[0;34m=\u001b[0m \u001b[0mpd\u001b[0m\u001b[0;34m.\u001b[0m\u001b[0mDataFrame\u001b[0m\u001b[0;34m(\u001b[0m\u001b[0mtest\u001b[0m\u001b[0;34m)\u001b[0m\u001b[0;34m\u001b[0m\u001b[0m\n\u001b[0m\u001b[1;32m     16\u001b[0m     \u001b[0mbinary\u001b[0m \u001b[0;34m=\u001b[0m \u001b[0mfinal_model\u001b[0m\u001b[0;34m.\u001b[0m\u001b[0mpredict\u001b[0m\u001b[0;34m(\u001b[0m\u001b[0mtest_df\u001b[0m\u001b[0;34m.\u001b[0m\u001b[0mdrop\u001b[0m\u001b[0;34m(\u001b[0m\u001b[0;34m[\u001b[0m\u001b[0;36m0\u001b[0m\u001b[0;34m,\u001b[0m\u001b[0;36m1\u001b[0m\u001b[0;34m]\u001b[0m\u001b[0;34m,\u001b[0m\u001b[0maxis\u001b[0m\u001b[0;34m=\u001b[0m\u001b[0;36m1\u001b[0m\u001b[0;34m)\u001b[0m\u001b[0;34m.\u001b[0m\u001b[0mvalues\u001b[0m\u001b[0;34m)\u001b[0m\u001b[0;34m\u001b[0m\u001b[0m\n\u001b[1;32m     17\u001b[0m     \u001b[0;32mif\u001b[0m \u001b[0mbinary\u001b[0m \u001b[0;34m==\u001b[0m \u001b[0;36m1\u001b[0m\u001b[0;34m:\u001b[0m\u001b[0;34m\u001b[0m\u001b[0m\n",
      "\u001b[0;32m/Users/Reed/anaconda/lib/python2.7/site-packages/pandas/core/frame.pyc\u001b[0m in \u001b[0;36m__init__\u001b[0;34m(self, data, index, columns, dtype, copy)\u001b[0m\n\u001b[1;32m    303\u001b[0m                     \u001b[0;32mif\u001b[0m \u001b[0mis_named_tuple\u001b[0m\u001b[0;34m(\u001b[0m\u001b[0mdata\u001b[0m\u001b[0;34m[\u001b[0m\u001b[0;36m0\u001b[0m\u001b[0;34m]\u001b[0m\u001b[0;34m)\u001b[0m \u001b[0;32mand\u001b[0m \u001b[0mcolumns\u001b[0m \u001b[0;32mis\u001b[0m \u001b[0mNone\u001b[0m\u001b[0;34m:\u001b[0m\u001b[0;34m\u001b[0m\u001b[0m\n\u001b[1;32m    304\u001b[0m                         \u001b[0mcolumns\u001b[0m \u001b[0;34m=\u001b[0m \u001b[0mdata\u001b[0m\u001b[0;34m[\u001b[0m\u001b[0;36m0\u001b[0m\u001b[0;34m]\u001b[0m\u001b[0;34m.\u001b[0m\u001b[0m_fields\u001b[0m\u001b[0;34m\u001b[0m\u001b[0m\n\u001b[0;32m--> 305\u001b[0;31m                     \u001b[0marrays\u001b[0m\u001b[0;34m,\u001b[0m \u001b[0mcolumns\u001b[0m \u001b[0;34m=\u001b[0m \u001b[0m_to_arrays\u001b[0m\u001b[0;34m(\u001b[0m\u001b[0mdata\u001b[0m\u001b[0;34m,\u001b[0m \u001b[0mcolumns\u001b[0m\u001b[0;34m,\u001b[0m \u001b[0mdtype\u001b[0m\u001b[0;34m=\u001b[0m\u001b[0mdtype\u001b[0m\u001b[0;34m)\u001b[0m\u001b[0;34m\u001b[0m\u001b[0m\n\u001b[0m\u001b[1;32m    306\u001b[0m                     \u001b[0mcolumns\u001b[0m \u001b[0;34m=\u001b[0m \u001b[0m_ensure_index\u001b[0m\u001b[0;34m(\u001b[0m\u001b[0mcolumns\u001b[0m\u001b[0;34m)\u001b[0m\u001b[0;34m\u001b[0m\u001b[0m\n\u001b[1;32m    307\u001b[0m \u001b[0;34m\u001b[0m\u001b[0m\n",
      "\u001b[0;32m/Users/Reed/anaconda/lib/python2.7/site-packages/pandas/core/frame.pyc\u001b[0m in \u001b[0;36m_to_arrays\u001b[0;34m(data, columns, coerce_float, dtype)\u001b[0m\n\u001b[1;32m   5517\u001b[0m     \u001b[0;32mif\u001b[0m \u001b[0misinstance\u001b[0m\u001b[0;34m(\u001b[0m\u001b[0mdata\u001b[0m\u001b[0;34m[\u001b[0m\u001b[0;36m0\u001b[0m\u001b[0;34m]\u001b[0m\u001b[0;34m,\u001b[0m \u001b[0;34m(\u001b[0m\u001b[0mlist\u001b[0m\u001b[0;34m,\u001b[0m \u001b[0mtuple\u001b[0m\u001b[0;34m)\u001b[0m\u001b[0;34m)\u001b[0m\u001b[0;34m:\u001b[0m\u001b[0;34m\u001b[0m\u001b[0m\n\u001b[1;32m   5518\u001b[0m         return _list_to_arrays(data, columns, coerce_float=coerce_float,\n\u001b[0;32m-> 5519\u001b[0;31m                                dtype=dtype)\n\u001b[0m\u001b[1;32m   5520\u001b[0m     \u001b[0;32melif\u001b[0m \u001b[0misinstance\u001b[0m\u001b[0;34m(\u001b[0m\u001b[0mdata\u001b[0m\u001b[0;34m[\u001b[0m\u001b[0;36m0\u001b[0m\u001b[0;34m]\u001b[0m\u001b[0;34m,\u001b[0m \u001b[0mcollections\u001b[0m\u001b[0;34m.\u001b[0m\u001b[0mMapping\u001b[0m\u001b[0;34m)\u001b[0m\u001b[0;34m:\u001b[0m\u001b[0;34m\u001b[0m\u001b[0m\n\u001b[1;32m   5521\u001b[0m         return _list_of_dict_to_arrays(data, columns,\n",
      "\u001b[0;32m/Users/Reed/anaconda/lib/python2.7/site-packages/pandas/core/frame.pyc\u001b[0m in \u001b[0;36m_list_to_arrays\u001b[0;34m(data, columns, coerce_float, dtype)\u001b[0m\n\u001b[1;32m   5596\u001b[0m         \u001b[0mcontent\u001b[0m \u001b[0;34m=\u001b[0m \u001b[0mlist\u001b[0m\u001b[0;34m(\u001b[0m\u001b[0mlib\u001b[0m\u001b[0;34m.\u001b[0m\u001b[0mto_object_array\u001b[0m\u001b[0;34m(\u001b[0m\u001b[0mdata\u001b[0m\u001b[0;34m)\u001b[0m\u001b[0;34m.\u001b[0m\u001b[0mT\u001b[0m\u001b[0;34m)\u001b[0m\u001b[0;34m\u001b[0m\u001b[0m\n\u001b[1;32m   5597\u001b[0m     return _convert_object_array(content, columns, dtype=dtype,\n\u001b[0;32m-> 5598\u001b[0;31m                                  coerce_float=coerce_float)\n\u001b[0m\u001b[1;32m   5599\u001b[0m \u001b[0;34m\u001b[0m\u001b[0m\n\u001b[1;32m   5600\u001b[0m \u001b[0;34m\u001b[0m\u001b[0m\n",
      "\u001b[0;32m/Users/Reed/anaconda/lib/python2.7/site-packages/pandas/core/frame.pyc\u001b[0m in \u001b[0;36m_convert_object_array\u001b[0;34m(content, columns, coerce_float, dtype)\u001b[0m\n\u001b[1;32m   5664\u001b[0m         \u001b[0;32mreturn\u001b[0m \u001b[0marr\u001b[0m\u001b[0;34m\u001b[0m\u001b[0m\n\u001b[1;32m   5665\u001b[0m \u001b[0;34m\u001b[0m\u001b[0m\n\u001b[0;32m-> 5666\u001b[0;31m     \u001b[0marrays\u001b[0m \u001b[0;34m=\u001b[0m \u001b[0;34m[\u001b[0m\u001b[0mconvert\u001b[0m\u001b[0;34m(\u001b[0m\u001b[0marr\u001b[0m\u001b[0;34m)\u001b[0m \u001b[0;32mfor\u001b[0m \u001b[0marr\u001b[0m \u001b[0;32min\u001b[0m \u001b[0mcontent\u001b[0m\u001b[0;34m]\u001b[0m\u001b[0;34m\u001b[0m\u001b[0m\n\u001b[0m\u001b[1;32m   5667\u001b[0m \u001b[0;34m\u001b[0m\u001b[0m\n\u001b[1;32m   5668\u001b[0m     \u001b[0;32mreturn\u001b[0m \u001b[0marrays\u001b[0m\u001b[0;34m,\u001b[0m \u001b[0mcolumns\u001b[0m\u001b[0;34m\u001b[0m\u001b[0m\n",
      "\u001b[0;32m/Users/Reed/anaconda/lib/python2.7/site-packages/pandas/core/frame.pyc\u001b[0m in \u001b[0;36mconvert\u001b[0;34m(arr)\u001b[0m\n\u001b[1;32m   5661\u001b[0m         \u001b[0;32mif\u001b[0m \u001b[0mdtype\u001b[0m \u001b[0;34m!=\u001b[0m \u001b[0mobject\u001b[0m \u001b[0;32mand\u001b[0m \u001b[0mdtype\u001b[0m \u001b[0;34m!=\u001b[0m \u001b[0mnp\u001b[0m\u001b[0;34m.\u001b[0m\u001b[0mobject\u001b[0m\u001b[0;34m:\u001b[0m\u001b[0;34m\u001b[0m\u001b[0m\n\u001b[1;32m   5662\u001b[0m             \u001b[0marr\u001b[0m \u001b[0;34m=\u001b[0m \u001b[0mlib\u001b[0m\u001b[0;34m.\u001b[0m\u001b[0mmaybe_convert_objects\u001b[0m\u001b[0;34m(\u001b[0m\u001b[0marr\u001b[0m\u001b[0;34m,\u001b[0m \u001b[0mtry_float\u001b[0m\u001b[0;34m=\u001b[0m\u001b[0mcoerce_float\u001b[0m\u001b[0;34m)\u001b[0m\u001b[0;34m\u001b[0m\u001b[0m\n\u001b[0;32m-> 5663\u001b[0;31m             \u001b[0marr\u001b[0m \u001b[0;34m=\u001b[0m \u001b[0m_possibly_cast_to_datetime\u001b[0m\u001b[0;34m(\u001b[0m\u001b[0marr\u001b[0m\u001b[0;34m,\u001b[0m \u001b[0mdtype\u001b[0m\u001b[0;34m)\u001b[0m\u001b[0;34m\u001b[0m\u001b[0m\n\u001b[0m\u001b[1;32m   5664\u001b[0m         \u001b[0;32mreturn\u001b[0m \u001b[0marr\u001b[0m\u001b[0;34m\u001b[0m\u001b[0m\n\u001b[1;32m   5665\u001b[0m \u001b[0;34m\u001b[0m\u001b[0m\n",
      "\u001b[0;32m/Users/Reed/anaconda/lib/python2.7/site-packages/pandas/types/cast.pyc\u001b[0m in \u001b[0;36m_possibly_cast_to_datetime\u001b[0;34m(value, dtype, errors)\u001b[0m\n\u001b[1;32m    767\u001b[0m     \u001b[0mnan\u001b[0m \u001b[0mto\u001b[0m \u001b[0miNaT\u001b[0m\u001b[0;34m\u001b[0m\u001b[0m\n\u001b[1;32m    768\u001b[0m     \"\"\"\n\u001b[0;32m--> 769\u001b[0;31m     \u001b[0;32mfrom\u001b[0m \u001b[0mpandas\u001b[0m\u001b[0;34m.\u001b[0m\u001b[0mtseries\u001b[0m\u001b[0;34m.\u001b[0m\u001b[0mtimedeltas\u001b[0m \u001b[0;32mimport\u001b[0m \u001b[0mto_timedelta\u001b[0m\u001b[0;34m\u001b[0m\u001b[0m\n\u001b[0m\u001b[1;32m    770\u001b[0m     \u001b[0;32mfrom\u001b[0m \u001b[0mpandas\u001b[0m\u001b[0;34m.\u001b[0m\u001b[0mtseries\u001b[0m\u001b[0;34m.\u001b[0m\u001b[0mtools\u001b[0m \u001b[0;32mimport\u001b[0m \u001b[0mto_datetime\u001b[0m\u001b[0;34m\u001b[0m\u001b[0m\n\u001b[1;32m    771\u001b[0m \u001b[0;34m\u001b[0m\u001b[0m\n",
      "\u001b[0;31mKeyboardInterrupt\u001b[0m: "
     ]
    }
   ],
   "source": [
    "maori_misclassified = []\n",
    "\n",
    "for word in maori_lexicon:\n",
    "    test=[]\n",
    "    test.append(word2features(word))\n",
    "    test_df = pd.DataFrame(test)\n",
    "    binary = final_model.predict(test_df.drop([0,1],axis=1).values)\n",
    "    if binary == 0:\n",
    "        maori_misclassified.append(word)\n",
    "\n",
    "print maori_misclassified\n",
    "\n",
    "english_misclassified = []\n",
    "\n",
    "for word in english_lexicon:\n",
    "    test=[]\n",
    "    test.append(word2features(word))\n",
    "    test_df = pd.DataFrame(test)\n",
    "    binary = final_model.predict(test_df.drop([0,1],axis=1).values)\n",
    "    if binary == 1:\n",
    "        english_misclassified.append(word)\n",
    "\n",
    "print english_misclassified"
   ]
  },
  {
   "cell_type": "code",
   "execution_count": 261,
   "metadata": {
    "collapsed": false
   },
   "outputs": [
    {
     "name": "stdout",
     "output_type": "stream",
     "text": [
      "['petrak', 'higman', 'uptmor', 'urquhart', 'phang', 'wang', 'wank', 'wann', 'want', 'kraig', 'wrong', 'wrona', 'knapik', 'kuen', 'ingrim', 'nanik', 'nania', 'kown', 'gata', 'peetoom', 'unknow', 'hiatt', 'ehrke', 'magano', 'magana', 'totman', 'pinon', 'irr', 'tippin', 'tippie', 'nature', 'kamke', 'koehring', 'tonini', 'arkin', 'hepa', 'kohn', 'kohm', 'kohr', 'hone', 'parreira', 'hong', 'whapham', 'noxon', 'hai', 'ham', 'orrantia', 'hae', 'haq', 'har', 'haw', 'trongone', 'kamaka', 'raper', 'iwaoka', 'hopton', 'ingemi', 'okinaka', 'hawken', 'hawker', 'imming', 'minute', 'reining', 'honour', 'riemer', 'koppa', 'hegna', 'miehe', 'amarian', 'majeau', 'poaipuni', 'krain', 'agamao', 'potier', 'harteau', 'kreitner', 'gutman', 'tamaro', 'tamara', 'rehak', 'martineau', 'pepitone', 'houpe', 'houpt', 'trinka', 'weiher', 'kimura', 'koerner', 'otta', 'ramoutar', 'paniagua', 'kominek', 'kira', 'arrow', 'auter', 'auten', 'heenan', 'witt', 'with', 'tripi', 'thora', 'romito', 'maximum', 'nora', 'nork', 'nori', 'wogan', 'kogan', 'aharoni', 'morr', 'mork', 'mori', 'moro', 'mora', 'more', 'emuka', 'amparo', 'jiang', 'papen', 'paper', 'hekman', 'arakawa', 'weier', 'atwater', 'rieke', 'noma', 'kreh', 'miao', 'miah', 'naoma', 'naomi', 'mauer', 'krenek', 'heiniger', 'tanker', 'ruehter', 'oehmke', 'aitkin', 'kring', 'materna', 'tehrani', 'tim', 'mathia', 'jake', 'khuu', 'mumaugh', 'taake', 'peatman', 'into', 'katin', 'katie', 'herminia', 'haxton', 'guarin', 'rhump', 'annarino', 'nieto', 'ingrahm', 'maker', 'tahon', 'turano', 'panone', 'arning', 'penunuri', 'treto', 'khang', 'khano', 'aavang', 'pumarejo', 'prokop', 'manon', 'manoi', 'tippit', 'pipher', 'tapp', 'tape', 'ohio', 'pake', 'reier', 'marti', 'marta', 'kahn', 'kamemoto', 'phan', 'pham', 'okimoto', 'ankrum', 'arimoto', 'aita', 'union', 'peiper', 'eagan', 'kman', 'vita', 'aurora', 'aurore', 'gamotan', 'petre', 'petra', 'horka', 'erp', 'ero', 'heutmaker', 'tegan', 'reneau', 'maniar', 'hohmeier', 'tokihiro', 'tegenkamp', 'auna', 'aune', 'kenouo', 'troutman', 'ema', 'emo', 'rung', 'krupa', 'runk', 'han', 'hempe', 'tone', 'tong', 'toni', 'aquino', 'knipping', 'romeiro', 'hartigan', 'miu', 'oathout', 'opie', 'wanamaker', 'teehee', 'kohen', 'gun', 'muthana', 'mahapatra', 'heiken', 'pirnie', 'extra', 'imrie', 'trang', 'haataja', 'tewani', 'kurk', 'kurr', 'hornung', 'whiteman', 'kukura', 'kearn', 'romanik', 'nepa', 'twanna', 'whitiker', 'rehrer', 'numan', 'teamer', 'peraha', 'thanpaeng', 'gainor', 'hoen', 'hurta', 'ganiron', 'amina', 'wengren', 'oien', 'kantah', 'prieto', 'haran', 'output', 'kawano', 'poor', 'poot', 'poter', 'reuther', 'kepke', 'jakeman', 'angiano', 'pique', 'pun', 'amirian', 'withrow', 'matha', 'hamamoto', 'krakowiak', 'kittie', 'kothari', 'gunagan', 'makara', 'tuong', 'kammerer', 'meakin', 'ratering', 'rawi', 'arko', 'keetan', 'wehn', 'afoa', 'wagman', 'napue', 'huwe', 'grana', 'waitman', 'kueker', 'herra', 'markman', 'erma', 'kummerow', 'trautman', 'working', 'kwiat', 'rho', 'wearing', 'kroemer', 'quitero', 'monington', 'kempton', 'petiet', 'waterer', 'ghekiere', 'kunau', 'meek', 'meet', 'naro', 'popat', 'mariko', 'amato', 'ingmire', 'mangon', 'reiniger', 'mantuano', 'mariana', 'mariano', 'renigar', 'mariani', 'granata', 'granato', 'ngo', 'purugganan', 'itri', 'granai', 'granat', 'keo', 'ken', 'kem', 'keh', 'kee', 'kew', 'ket', 'ker', 'makua', 'humenik', 'heaton', 'ekin', 'nkuku', 'maatta', 'hengen', 'hnat', 'parrigan', 'rote', 'manahan', 'murra', 'gain', 'haring', 'kain', 'nonaka', 'aun', 'markou', 'markow', 'gaton', 'mee', 'meo', 'mei', 'iorio', 'rook', 'roop', 'root', 'kiehm', 'kuwahara', 'wixom', 'wixon', 'mario', 'menger', 'prete', 'preti', 'omo', 'extine', 'monat', 'putt', 'mathieu', 'perper', 'kakeh', 'peterkin', 'mongrain', 'honga', 'hongo', 'oakman', 'jarreau', 'petix', 'petit', 'hinahon', 'rue', 'kauffman', 'maheia', 'akerman', 'enote', 'kuper', 'pitorak', 'kapke', 'heritage', 'krumm', 'waganer', 'uemura', 'roaoo', 'murakawa', 'haehn', 'kirgan', 'okura', 'nakata', 'nuuanu', 'tour', 'tout', 'meteer', 'merana', 'hemmeter', 'kappe', 'kappa', 'krane', 'antman', 'votaua', 'hew', 'kinahan', 'nitka', 'tegtmeier', 'kemna', 'haering', 'kaneko', 'komp', 'koma', 'komo', 'hout', 'houp', 'hour', 'houk', 'minimum', 'wootan', 'mapa', 'mapp', 'keamo', 'krampe', 'hankin', 'takenaka', 'rotan', 'mariotti', 'rank', 'katrina', 'tauer', 'okuhara', 'perra', 'hagman', 'tow', 'niheu', 'kuperman', 'wetmore', 'gaona', 'meara', 'pathak', 'nghiem', 'newham', 'pankau', 'imamura', 'aquirre', 'erker', 'earnheart', 'karner', 'rhatigan', 'parikh', 'whiting', 'qian', 'hereth', 'kann', 'fat', 'haken', 'munion', 'iwami', 'hoekman', 'kauer', 'pineau', 'arpino', 'prakoth', 'empie', 'aker', 'joki', 'pitpitan', 'porat', 'matonak', 'amparan', 'kuramoto', 'marhta', 'haik', 'hain', 'hair', 'hait', 'enke', 'nohe', 'peha', 'ragain', 'nikia', 'tratar', 'hixon', 'nair', 'naik', 'kahen', 'kut', 'kur', 'kun', 'kum', 'kuh', 'kue', 'prata', 'prato', 'prati', 'marero', 'ohair', 'amir', 'tongren', 'arqueta', 'kearin', 'erke', 'wininger', 'inoa', 'kanta', 'mekee', 'reineking', 'haith', 'houten', 'hagan', 'mun', 'rimm', 'rimi', 'hanington', 'maranan', 'komarek', 'peake', 'arnoux', 'kania', 'pagni', 'wakeman', 'harriman', 'umeh', 'mainwaring', 'ahn', 'ahr', 'atta', 'maureen', 'rametta', 'rom', 'roe', 'rox', 'row', 'tanke', 'rowton', 'kama', 'kami', 'kamm', 'kamp', 'pitre', 'prem', 'pree', 'kapaun', 'hanko', 'hanke', 'autrano', 'kiehne', 'tongate', 'herwehe', 'tweten', 'hinaman', 'proue', 'porep', 'poree', 'troe', 'ehiginator', 'quiet', 'horigan', 'hermenau', 'tower', 'ehr', 'knowiton', 'ehn', 'heuman', 'earman', 'henein', 'tarra', 'tarro', 'quimet', 'nakada', 'knaak', 'hougham', 'ramano', 'matava', 'teper', 'koening', 'xuan', 'kanipe', 'nohemi', 'rauhe', 'wieneke', 'puiatti', 'krienke', 'wenger', 'king', 'kine', 'kinn', 'kini', 'kint', 'hemker', 'hemken', 'tri', 'auteri', 'traut', 'harpham', 'knighter', 'marquena', 'wrote', 'keimig', 'whitker', 'ogawa', 'koehne', 'uranga', 'kraker', 'mahrer', 'paten', 'patek', 'tomita', 'kowing', 'whitmer', 'kamat', 'kaman', 'kamai', 'markarian', 'howman', 'aikman', 'hupman', 'orkin', 'amiee', 'rapko', 'anania', 'ahearn', 'munguia', 'uhri', 'konat', 'unknown', 'mumaw', 'who', 'hux', 'haaker', 'nauman', 'reva', 'joa', 'joi', 'honahni', 'maura', 'keogan', 'teri', 'moniak', 'pahmeier', 'arnt', 'arne', 'arno', 'monagan', 'wenona', 'remer', 'ziak', 'tuenge', 'xiao', 'huro', 'hurn', 'hurm', 'henigan', 'wint', 'wink', 'winn', 'wing', 'kaupp', 'kaupu', 'kohnen', 'mathena', 'phuma', 'okie', 'okin', 'ermita', 'herrara', 'ungar', 'menu', 'nathan', 'harkema', 'rene', 'renk', 'ariano', 'ariane', 'ariana', 'khum', 'mammenga', 'kron', 'krom', 'kroh', 'urmeneta', 'torain', 'warring', 'keanum', 'khu', 'khn', 'kho', 'topete', 'anker', 'moura', 'moure', 'gahring', 'minion', 'manetta', 'rehmer', 'niimi', 'oinonen', 'kenik', 'kenia', 'hauth', 'parkman', 'manora', 'etier', 'enama', 'retek', 'tako', 'axt', 'ohta', 'axe', 'arnita', 'magnini', 'guitano', 'kaneakua', 'antu', 'anti', 'prue', 'reeter', 'moroni', 'tropea', 'tave', 'marna', 'am', 'an', 'ar', 'at', 'aw', 'ax', 'ohr', 'ukena', 'hoium', 'jaji', 'ruark', 'kitagawa', 'ohare', 'xue', 'rarang', 'ritari', 'pang', 'pano', 'hook', 'niang', 'groetken', 'exe', 'axton', 'arpin', 'menaker', 'wroe', 'guitreau', 'knap', 'pagan', 'kurihara', 'owen', 'ruhn', 'akiyama', 'goin', 'mature', 'maturi', 'iurato', 'kapur', 'etta', 'heinonen', 'higa', 'auxier', 'murakami', 'protain', 'merati', 'ihm', 'iott', 'muir', 'kuti', 'kuta', 'tanaka', 'tanoue', 'reaux', 'auringer', 'hope', 'toruno', 'knupke', 'kofa', 'gioriano', 'tharp', 'maun', 'paguin', 'aragaki', 'hehir', 'muro', 'murr', 'mineau', 'hutnak', 'akima', 'harrah', 'kiani', 'kiana', 'hakimi', 'nixion', 'pieri', 'piere', 'thamphia', 'tian', 'emke', 'kinikini', 'minahan', 'roma', 'takaki', 'takako', 'paxman', 'nena', 'juanita', 'murphree', 'guin', 'prow', 'koppang', 'raia', 'rain', 'raio', 'arau', 'aran', 'arango', 'otex', 'quiana', 'humm', 'hume', 'ihnen', 'wehrheim', 'reategui', 'margarite', 'margarita', 'kothakota', 'kemp', 'kaminaka', 'pequeno', 'kmiotek', 'taormina', 'paramore', 'em', 'ek', 'ee', 'opoka', 'ex', 'kempter', 'pereria', 'harring', 'garrahan', 'phoeuk', 'gnau', 'hiroko', 'prak', 'petermeier', 'kauahi', 'howat', 'timonere', 'ream', 'reau', 'reap', 'rear', 'hiemer', 'gowan', 'heater', 'meagan', 'terhark', 'rihn', 'keinonen', 'riha', 'taranto', 'khoun', 'henegan', 'raheem', 'rork', 'giaimo', 'winik', 'markin', 'markie', 'taft', 'taff', 'maxine', 'pua', 'put', 'xiang', 'koper', 'tanna', 'karr', 'karp', 'karg', 'karn', 'herre', 'herek', 'karon', 'mannina', 'tatiana', 'poitra', 'karow', 'anon', 'anoe', 'howie', 'winingear', 'kiehn', 'reith', 'reita', 'taque', 'ruh', 'run', 'rux', 'prophit', 'witman', 'wingham', 'kurnik', 'hannemann', 'taaffe', 'nuno', 'nunn', 'premer', 'hirko', 'tonai', 'honan', 'ito', 'huxman', 'tropiano', 'kooker', 'kooken', 'paar', 'paap', 'margan', 'tatman', 'hoque', 'keawe', 'murguia', 'minatra', 'parker', 'nowak', 'manire', 'khatak', 'hoeper', 'tieng', 'tugman', 'fata', 'fate', 'turnow', 'mohair', 'krahe', 'krahn', 'upp', 'riekena', 'ingraham', 'nanna', 'reagan', 'turiano', 'kumar', 'kuman', 'tawwater', 'hoop', 'hoot', 'hooe', 'knotek', 'miera', 'huhta', 'koko', 'katerine', 'praino', 'werk', 'genuario', 'rajtar', 'near', 'neat', 'ip', 'it', 'im', 'in', 'egan', 'aiona', 'thakkar', 'tomehak', 'okoronkwo', 'marinaro', 'tapija', 'warman', 'tanweer', 'kapanke', 'outwater', 'tangari', 'tangaro', 'tuma', 'ringham', 'ammirati', 'niemie', 'amaker', 'pink', 'pini', 'pino', 'pinn', 'pina', 'ping', 'pine', 'gearan', 'tapat', 'hironaka', 'nute', 'harken', 'harker', 'nakaoka', 'were', 'upham', 'wike', 'ju', 'ji', 'hakimian', 'kokko', 'rupke', 'ganga', 'gangi', 'making', 'premeaux', 'qiana', 'heike', 'otha', 'truka', 'inghram', 'remote', 'imme', 'omoto', 'nuque', 'reineke', 'whittaker', 'timko', 'none', 'nono', 'ohara', 'petite', 'petito', 'hinke', 'parriera', 'giampapa', 'wauneka', 'peng', 'peno', 'hanohano', 'koh', 'kok', 'kon', 'kor', 'kou', 'kot', 'rueter', 'janak', 'tangen', 'km', 'ku', 'homan', 'reth', 'kathi', 'hnot', 'tamekia', 'errera', 'pet', 'pew', 'per', 'pen', 'pei', 'martinea', 'krenik', 'reinke', 'knight', 'murak', 'murai', 'keuper', 'mangini', 'mangina', 'krupiak', 'phothirath', 'ehmke', 'rakow', 'hammaker', 'pitta', 'rex', 'rew', 'reh', 'rea', 'kroupa', 'otomo', 'keturah', 'hayakawa', 'agan', 'waxman', 'panek', 'gauani', 'preer', 'kipping', 'antoniak', 'reitema', 'parramore', 'watah', 'tweet', 'authur', 'khanponaphan', 'whooper', 'haake', 'namauu', 'patt', 'ereaux', 'pate', 'path', 'mowan', 'minato', 'mowat', 'mi', 'mu', 'mt', 'eng', 'eno', 'kadar', 'titman', 'hann', 'marana', 'mangine', 'marani', 'hang', 'marano', 'took', 'toot', 'toor', 'toop', 'nakano', 'mourer', 'mouret', 'pratka', 'quartaro', 'irimata', 'operating', 'kihn', 'hija', 'traina', 'kemerer', 'pharr', 'pharo', 'phare', 'oroark', 'patane', 'karine', 'karina', 'aparo', 'maiava', 'patman', 'amati', 'knighton', 'nore', 'hean', 'heam', 'heat', 'heap', 'gongora', 'kathan', 'partain', 'ami', 'ogan', 'tanori', 'tariq', 'town', 'turek', 'nonu', 'parma', 'onita', 'piano', 'niemeier', 'ueno', 'ekker', 'maximina', 'amiot', 'hum', 'hun', 'hur', 'herrea', 'amer', 'tamie', 'peragine', 'runge', 'on', 'ok', 'oh', 'karan', 'ow', 'or', 'tuomi', 'jui', 'rerko', 'woman', 'toupin', 'komar', 'rate', 'koman', 'penate', 'huewe', 'huneke', 'fiumara', 'henagan', 'aiton', 'koo', 'moan', 'moak', 'moat', 'onan', 'routon', 'mierow', 'huhn', 'rieper', 'kotnik', 'erna', 'meaghan', 'nakai', 'nakao', 'ignoria', 'touton', 'quain', 'maughn', 'artinian', 'gautreau', 'protano', 'papin', 'papik', 'knipe', 'twinam', 'oare', 'tijernia', 'uran', 'ramire', 'ramiro', 'orange', 'mahran', 'khora', 'whittiker', 'roux', 'rouw', 'rout', 'roup', 'newingham', 'weihe', 'marquina', 'gahn', 'harian', 'reitman', 'makin', 'wakayama', 'hignite', 'noh', 'norah', 'norat', 'not', 'requena', 'rohm', 'akuna', 'rohr', 'margaret', 'maupin', 'own', 'manwaring', 'anja', 'turpin', 'kathe', 'hanan', 'kaemingk', 'trautwein', 'aten', 'ater', 'itkin', 'notik', 'teter', 'torma', 'pirie', 'warmka', 'werra', 'trew', 'poirot', 'koroma', 'agne', 'farahkhan', 'ringo', 'thaut', 'worker', 'pingitore', 'keegan', 'oehm', 'prehm', 'rexroat', 'meegan', 'ohagan', 'ruiter', 'kreke', 'rainge', 'haupt', 'waite', 'knake', 'papi', 'poore', 'pee', 'trnong', 'fake', 'petrea', 'petree', 'tomanek', 'enriqueta', 'vaka', 'wung', 'matute', 'tora', 'tori', 'tork', 'giagni', 'wahington', 'kramp', 'whittier', 'opet', 'open', 'kuan', 'winningham', 'hoek', 'topham', 'kenmore', 'metoxen', 'kapphahn', 'rightnour', 'ahmau', 'turro', 'turri', 'epting', 'kirwin', 'mane', 'mang', 'mani', 'tijing', 'kuhnke', 'paton', 'pinke', 'knop', 'muoi', 'thakur', 'orengo', 'atnip', 'huret', 'heu', 'her', 'hee', 'montanari', 'montanaro', 'miriam', 'mirian', 'keanu', 'waninger', 'keane', 'koop', 'tarwater', 'quero', 'igartua', 'harre', 'mangano', 'garkow', 'kohara', 'uthe', 'roemer', 'harrop', 'harrow', 'roni', 'waananen', 'murat', 'heminger', 'paker', 'writer', 'rappa', 'aughtman', 'reher', 'ingegneri', 'mangino', 'kopin', 'ratana', 'pian', 'muratore', 'ohan', 'eura', 'eure', 'quammen', 'omura', 'hamre', 'hamra', 'up', 'ur', 'um', 'un', 'uk', 'etkin', 'autin', 'autio', 'poitier', 'keena', 'keene', 'gauwain', 'maohu', 'anika', 'pankake', 'maeweather', 'hawe', 'hawn', 'mova', 'hanagami', 'meta', 'hanahan', 'prang', 'yamanaka', 'pexton', 'noia', 'tikkanen', 'mier', 'inagaki', 'annamaria', 'hawking', 'tupaj', 'pein', 'pepka', 'aitken', 'ronin', 'irie', 'minier', 'rangnow', 'meaux', 'arianna', 'tenamore', 'ree', 'katen', 'kempker', 'heximer', 'hnatow', 'japak', 'quirin', 'mrotek', 'mautino', 'kaighn', 'hogan', 'veta', 'nagura', 'retka', 'maximo', 'kanthak', 'matone', 'maxima', 'we', 'wm', 'wu', 'manko', 'manka', 'manke', 'air', 'aukerman', 'photo', 'troike', 'jaap', 'hatmaker', 'hidaka', 'ruwet', 'ahhee', 'true', 'rainier', 'hignight', 'iriarte', 'emenaha', 'riippi', 'peixoto', 'pipe', 'mathai', 'turpiano', 'amoako', 'magan', 'maroun', 'pomponi', 'hirao', 'wanek', 'quam', 'quan', 'jana', 'roxie', 'maino', 'queenan', 'huie', 'aura', 'mehtani', 'wareheim', 'rutha', 'kantarian', 'umin', 'muoio', 'ingrum', 'namaka', 'guareno', 'auwarter', 'kreinhagen', 'romaro', 'jeanmarie', 'ramagano', 'wagenaar', 'teehan', 'tewa', 'kimm', 'hime', 'heineman', 'ione', 'horniak', 'kurohara', 'kuna', 'kung', 'kuni', 'rajaratnam', 'ihrke', 'totin', 'hipp', 'aragoni', 'tomka', 'ueki', 'intihar', 'nghe', 'garan', 'hoak', 'hoar', 'meineke', 'engeman', 'preite', 'heimer', 'haren', 'harer', 'tun', 'knori', 'perng', 'traweek', 'karau', 'wehr', 'nirmaier', 'ramnarine', 'whiton', 'akright', 'terinoni', 'win', 'wix', 'krupka', 'krupke', 'promer', 'kraham', 'aamot', 'trahin', 'adamiak', 'nokia', 'paone', 'tirk', 'teteak', 'aron', 'keiter', 'orio', 'orie', 'patout', 'gutkin', 'mitra', 'kokenge', 'tongue', 'pippin', 'erie', 'arre', 'arra', 'ainge', 'arrieta', 'mahin', 'marquita', 'tamura', 'training', 'akin', 'akim', 'mean', 'minh', 'mini', 'mink', 'mina', 'hannigan', 'raimo', 'miniuk', 'minium', 'timar', 'perera', 'nagamine', 'keomuangtai', 'pete', 'miano', 'tawanna', 'peto', 'temika', 'tiano', 'tiana', 'kip', 'kit', 'kio', 'kin', 'kim', 'kie', 'neptune', 'janka', 'eken', 'akapo', 'equihua', 'kouri', 'piraino', 'panora', 'moir', 'tijerina', 'garneau', 'katra', 'munari', 'item', 'harapat', 'kamaunu', 'map', 'mar', 'maw', 'max', 'ruot', 'mak', 'maj', 'mam', 'man', 'rehkop', 'tipka', 'marreo', 'orr', 'ork', 'ori', 'ore', 'kirkham', 'katona', 'rating', 'hamano', 'troke', 'hoxie', 'kaan', 'kaak', 'kaai', 'kaaz', 'pupo', 'pupa', 'antkowiak', 'toporek', 'reome', 'atmore', 'kannan', 'garahan', 'aikin', 'rainha', 'roker', 'winget', 'heinen', 'pring', 'otutaha', 'marquerite', 'haroun', 'paro', 'parm', 'park', 'part', 'parr', 'kapoi', 'knape', 'pigna', 'ripka', 'ripke', 'rapuano', 'krah', 'maier', 'engman', 'tonkin', 'peterman', 'wojtak', 'gan', 'prophet', 'kohout', 'manago', 'apker', 'monika', 'kagan', 'kirt', 'kirk', 'kirn', 'priore', 'mehta', 'korenek', 'arana', 'piper', 'koong', 'meer', 'takehara', 'requa', 'muhr', 'muhn', 'muha', 'kuang', 'whittum', 'reath', 'horimoto', 'rhoan', 'mato', 'math', 'kumro', 'ohaire', 'hanken', 'amira', 'amiri', 'anitra', 'rhoton', 'neenan', 'opheim', 'paquet', 'parke', 'hamiton', 'araujo', 'moehring', 'totino', 'naito', 'tamra', 'kher', 'hinote', 'kahoun', 'pakonen', 'kuhre', 'eugenia', 'wangerin', 'trnka', 'hawman', 'reinheimer', 'kuokkanen', 'manoogian', 'knoop', 'konma', 'rigano', 'temkin', 'viti', 'hakim', 'eugena', 'eugene', 'oxton', 'rane', 'rang', 'rana', 'hearing', 'mirta', 'keown', 'poker', 'peine', 'rupar', 'ramaker', 'peroutka', 'tuukanen', 'wear', 'orta', 'manquero', 'hung', 'patera', 'hanrath', 'hamp', 'kaneta', 'hamm', 'penquite', 'margareta', 'margarete', 'emerita', 'kanaan', 'toniatti', 'thake', 'rathai', 'topinka', 'twiet', 'tatro', 'magoun', 'mierau', 'kruer', 'marineau', 'jarema', 'rena', 'maenaga', 'hear', 'whiteaker', 'kipka', 'warmath', 'mangrum', 'zangari', 'zangara', 'pop', 'pon', 'pok', 'engine', 'hitt', 'ni', 'hauan', 'guarino', 'guarini', 'kawamura', 'kadakia', 'pokoj', 'teixeira', 'okajima', 'renegar', 'garwin', 'reing', 'reina', 'raker', 'tanon', 'manring', 'marevka', 'goan', 'prat', 'kapperman', 'pump', 'hotek', 'kiewiet', 'mumpower', 'tarman', 'ramotar', 'oxman', 'hairr', 'kamakea', 'aramini', 'panko', 'minkin', 'turkin', 'nuon', 'karapetian', 'howington', 'ammirato', 'kofutua', 'ammirata', 'home', 'grahan', 'hooke', 'rugama', 'okuna', 'okuno', 'erika', 'agtarap', 'kotera', 'riter', 'honokaupu', 'roath', 'hiteman', 'tarin', 'prenger', 'whitmore', 'aronow', 'marafioti', 'ewan', 'mutana', 'patti', 'argueta', 'aihara', 'haneke', 'kujak', 'angermeier', 'hannaman', 'patak', 'patao', 'napihaa', 'temp', 'whether', 'orona', 'tatham', 'magaha', 'natewa', 'whitman', 'nigh', 'hero', 'hera', 'unit', 'hon', 'hoo', 'hom', 'hok', 'hoh', 'how', 'hot', 'purwin', 'hor', 'weitman', 'rheome', 'whit', 'parmeter', 'nakajima', 'rieken', 'rieker', 'xia', 'xie', 'perie', 'peria', 'tameka', 'perque', 'aono', 'huh', 'known', 'hirpara', 'pitt', 'pita', 'ann', 'input', 'maxham', 'hopkin', 'gurkin', 'tung', 'tune', 'kawakami', 'uher', 'janita', 'piirto', 'reiter', 'raque', 'pion', 'time', 'timi', 'timm', 'karpe', 'wiemer', 'runion', 'trimino', 'remak', 'takayama', 'auker', 'keohane', 'romiro', 'rainwater', 'note', 'noto', 'teare', 'romaniak', 'where', 'anning', 'amore', 'watring', 'konger', 'meja', 'hartung', 'kingen', 'rahaim', 'hornak', 'quear', 'exie', 'power', 'keaten', 'weeter', 'toure', 'pauker', 'peon', 'parenteau', 'hoehne', 'phuong', 'terhaar', 'terrero', 'maarx', 'poteet', 'greengo', 'naguin', 'war', 'katon', 'katoh', 'koenen', 'koener', 'aiava', 'weingart', 'naret', 'ritt', 'poetker', 'tamera', 'xiong', 'akana', 'reitano', 'ragan', 'tinkham', 'matera', 'matero', 'repair', 'ator', 'aton', 'atoe', 'gahan', 'uimari', 'tarr', 'prukop', 'tart', 'tammera', 'topoian', 'avita', 'marra', 'maharaj', 'murwin', 'opinion', 'phou', 'thim', 'phom', 'thie', 'karam', 'kinion', 'torina', 'torino', 'waren', 'hinman', 'engerman', 'anguiano', 'monaghan', 'tien', 'tempe', 'okamura', 'pengra', 'tupa', 'tamargo', 'emiko', 'morawa', 'ngin', 'wemark', 'harootunian', 'horii', 'notah', 'moreira', 'pitman', 'upon', 'mihara', 'paup', 'prier', 'quink', 'whtie', 'hagaman', 'reeher', 'wempa', 'human', 'wuori', 'keenom', 'gearwar', 'aurea', 'hageman', 'eon', 'kimpton', 'ahart', 'kuanoni', 'wrighton', 'parkin', 'ingenito', 'work', 'omara', 'uken', 'guanio', 'keiper', 'henaire', 'rautio', 'raxter', 'querio', 'iopa', 'triana', 'nephew', 'onukogu', 'pipho', 'guerena', 'hwang', 'tunon', 'goeken', 'margherita', 'anamaria', 'wehrwein', 'keath', 'ikemoto', 'arington', 'maxie', 'katnik', 'reano', 'prairie', 'harrer', 'roquemore', 'orea', 'pageau', 'kafka', 'wrightington', 'rorex', 'kaffka', 'marini', 'maring', 'zak', 'wimpee', 'poma', 'noriko', 'pomo', 'weininger', 'aiuto', 'hegan', 'gange', 'garant', 'horio', 'kaina', 'angerer', 'hanegan', 'marking', 'two', 'kupihea', 'topor', 'heape', 'tagami', 'muina', 'raup', 'onorati', 'onorato', 'rauh', 'hatta', 'area', 'tipre', 'nhek', 'nhep', 'kaiwi', 'thur', 'roupe', 'markita', 'ihnat', 'nihei', 'mahajan', 'keim', 'keir', 'eroh', 'mutone', 'winokur', 'mahoe', 'mahon', 'heinig', 'haning', 'aragan', 'aragao', 'kramer', 'ohmit', 'kamerer', 'gauna', 'napp', 'imam', 'iman', 'imai', 'tieken', 'kwan', 'kwak', 'mangham', 'moira', 'amaro', 'amari', 'amara', 'tomaro', 'pierri', 'rinauro', 'mukai', 'reep', 'reeh', 'reek', 'reem', 'reen', 'aakre', 'pimpare', 'nan', 'nao', 'tianna', 'hohaia', 'pinion', 'parhan', 'whitegoat', 'pomar', 'torigian', 'roper', 'quintania', 'tompkin', 'mera', 'winek', 'tamatha', 'krugman', 'antigua', 'koritko', 'pitek', 'roque', 'koren', 'roik', 'mungia', 'treat', 'oto', 'kave', 'kava', 'prahm', 'unrau', 'heiting', 'naiman', 'hemani', 'nakaahiki', 'huaman', 'karpinen', 'koehnen', 'maurita', 'jama', 'nate', 'wanke', 'honea', 'wanko', 'oretha', 'mangiapane', 'troup', 'hirano', 'tapaha', 'paek', 'paet', 'miura', 'memo', 'panameno', 'proano', 'hoare', 'houman', 'pinkham', 'waterman', 'martain', 'poirer', 'nakagawa', 'apking', 'taruer', 'euton', 'raponi', 'okada', 'nunmaker', 'maragni', 'wittie', 'maragno', 'ganoung', 'panke', 'kwon', 'tarrant', 'hagerman', 'eppihimer', 'wain', 'hautamaki', 'wair', 'wait', 'angwin', 'quitugua', 'hatada', 'mair', 'thang', 'maio', 'main', 'winrow', 'wurm', 'hokutan', 'auman', 'hatke', 'marriot', 'muno', 'munk', 'merker', 'mattia', 'arakaki', 'kook', 'treptow', 'koon', 'koor', 'hoke', 'kromer', 'kiara', 'mare', 'marn', 'mark', 'mart', 'ohora', 'marr', 'marx', 'among', 'teahan', 'parah', 'parat', 'tree', 'whiter', 'whiten', 'kekahuna', 'wake', 'notoma', 'homiak', 'premium', 'antona', 'kuhta', 'magpuri', 'appana', 'twana', 'ranger', 'furukawa', 'tuai', 'tuan', 'magnia', 'iwata', 'earing', 'mruk', 'tanguma', 'armato', 'kahanek', 'rater', 'hoopingarner', 'peaker', 'harkin', 'takara', 'pinkie', 'peninger', 'puorto', 'wiggin', 'pahnke', 'gaetano', 'kapahu', 'ahne', 'happ', 'hape', 'keating', 'ingham', 'mauter', 'reimmer', 'teemer', 'georgiana', 'moua', 'moun', 'annika', 'mouw', 'martirano', 'nogueira', 'kahanaoi', 'arnio', 'whitehair', 'jira', 'hake', 'mangione', 'garnham', 'perugini', 'kujawa', 'trani', 'nieminen', 'kathman', 'annita', 'tokar', 'tajuana', 'pruna', 'preheim', 'trana', 'maiten', 'martina', 'waugaman', 'nagg', 'maxton', 'nakken', 'keren', 'reha', 'rehm', 'poat', 'marhefka', 'weimer', 'kainoa', 'pih', 'pim', 'pin', 'ontko', 'witaker', 'nkomo', 'marangoni', 'eakin', 'okumoto', 'martinie', 'pantano', 'tomoko', 'harnage', 'emma', 'rampa', 'gwin', 'hangartner', 'niwa', 'moake', 'phong', 'riina', 'khamo', 'tempie', 'kinning', 'hanger', 'matar', 'aja', 'mowrer', 'reihe', 'karena', 'ogiamien', 'rae', 'ran', 'ram', 'raj', 'rak', 'raw', 'rax', 'kaku', 'hornik', 'okihara', 'ammar', 'aimone', 'huter', 'keate', 'pagano', 'pagani', 'whitaker', 'ghan', 'trio', 'trip', 'tix', 'tiu', 'panak', 'panah', 'tin', 'tio', 'mrnak', 'phoenix', 'komm', 'water', 'thiara', 'manino', 'giammona', 'twining', 'tangren', 'manera', 'nee', 'piermarini', 'penigar', 'haaga', 'notaro', 'genga', 'twait', 'genge', 'periera', 'nakahara', 'koran', 'egwuohua', 'hourani', 'orouke', 'harwin', 'ganino', 'korinta', 'teator', 'hint', 'hink', 'hinh', 'petrie', 'petrik', 'akpan', 'mahnke', 'patajo', 'rohrer', 'granieri', 'tuton', 'kreimer', 'atkin', 'ewing', 'hamernik', 'reitmeier', 'pamintuan', 'kump', 'aaron', 'kumm', 'hema', 'hemp', 'fae', 'primiano', 'gareau', 'kaemmerer', 'kremer', 'anh', 'krumenauer', 'quatraro', 'ruhenkamp', 'rikki', 'niau', 'nian', 'option', 'houghton', 'nguen', 'prokup', 'hit', 'hix', 'him', 'hin', 'monger', 'rapin', 'perot', 'perow', 'rohan', 'pax', 'maronge', 'mariah', 'mariam', 'marian', 'fatimah', 'pomrenke', 'kroenke', 'moriwaki', 'kurka', 'wierenga', 'phorng', 'karma', 'karmo', 'trout', 'kotaki', 'hanenkrat', 'hanagan', 'mongeon', 'pura', 'tuerk', 'rapp', 'rape', 'rihanek', 'emperor', 'tarquinio', 'pargman', 'purpura', 'prothro', 'maione', 'nenita', 'remke', 'horita', 'huth', 'wiktor', 'rorer', 'patrie', 'taitague', 'kang', 'hungate', 'kahuhu', 'kattan', 'emeru', 'hanoharo', 'mohre', 'phagan', 'kreiner', 'nawn', 'gunia', 'athan', 'truong', 'okwuona', 'pujia', 'quamme', 'gautreaux', 'piatak', 'twito', 'kiper', 'mounger', 'wieto', 'popkin', 'kuitu', 'kenaan', 'oquin', 'htwe', 'quaranta', 'quaranto', 'mangram', 'raheja', 'renaker', 'parekh', 'hamar', 'krout', 'rooker', 'naron', 'tami', 'tamm', 'tanen', 'rininger', 'aponta', 'minnix', 'kimiko', 'aina', 'tineo', 'kaeo', 'mango', 'tarran', 'tanigawa', 'pipkin', 'mammano', 'pingree', 'mennenga', 'jahr', 'kawahara', 'marietta', 'earehart', 'magaret', 'kamimura', 'tomek', 'tomei', 'wanta', 'tanimoto', 'pahk', 'aumavae', 'kawaa', 'karrie', 'whaite', 'kotow', 'antuna', 'puppo', 're', 'kemper', 'hanrahan', 'kempen', 'prior', 'noman', 'qare', 'magnano', 'magnani', 'magouirk', 'tomiko', 'tomika', 'operation', 'ermatinger', 'purpora', 'waiki', 'rutiaga', 'maxam', 'numkena', 'wrape', 'ingran', 'ingram', 'gurka', 'patka', 'tornatore', 'haker', 'arouri', 'onorata', 'angione', 'muraro', 'mawk', 'tienken', 'raum', 'next', 'nawwar', 'agni', 'muta', 'muth', 'muto', 'whittie', 'marketta', 'nuara', 'wainman', 'ikehara', 'hohman', 'ganigan', 'jax', 'jae', 'retana', 'minugh', 'maritn', 'marita', 'eaton', 'guinan', 'kopet', 'kuehne', 'powe', 'raitt', 'wee', 'wei', 'wen', 'piek', 'hamaker', 'pier', 'emme', 'airhart', 'emmi', 'hauptmann', 'panahon', 'tameika', 'kjar', 'porrini', 'axon', 'ahuna', 'howton', 'huiting', 'huitink', 'quartararo', 'wannarka', 'anene', 'heang', 'keva', 'reamer', 'araneo', 'penaherrera', 'kukene', 'orum', 'metier', 'amarante', 'renea', 'kime', 'huot', 'huor', 'popham', 'kraemer', 'hettinga', 'gariti', 'mangaoang', 'hanneman', 'awai', 'weeman', 'papagni', 'quirk', 'quire', 'hank', 'hanh', 'hano', 'hana', 'hane', 'hant', 'engram', 'kingore', 'peer', 'peet', 'faux', 'irma', 'tajima', 'maietta', 'grinie', 'gautam', 'hakeem', 'touar', 'irwin', 'katan', 'aken', 'tiara', 'noe', 'now', 'nop', 'nor', 'konopka', 'hiraoka', 'rini', 'rine', 'ring', 'rina', 'huhman', 'pearman', 'eapen', 'hanmore', 'kimminau', 'noonan', 'mouton', 'kanwar', 'tringham', 'kareem', 'jaremka', 'amr', 'ruoho', 'workinger', 'kapp', 'meua', 'arena', 'reena', 'reper', 'quirion', 'mangieri', 'maran', 'marak', 'haverkamp', 'reemer', 'morita', 'tonge', 'wanat', 'kuter', 'narain', 'timone', 'patrina', 'greinke', 'haugen', 'kirker', 'nikki', 'rahim', 'nonemaker', 'murrieta', 'papan', 'monarque', 'piepho', 'mataka', 'geng', 'gena', 'okane', 'okano', 'arano', 'arant', 'wingeier', 'paparo', 'kiah', 'monitoring', 'nattiah', 'phair', 'mathenia', 'ohmie', 'kapoor', 'armor', 'rougeaux', 'hehr', 'hehn', 'arriano', 'kuja', 'ure', 'ura', 'enget', 'hemeon', 'kanjirathinga', 'teno', 'teng', 'hite', 'gita', 'torp', 'arking', 'imperato', 'pheonix', 'oroak', 'poxon', 'nannini', 'kortum', 'arkema', 'homa', 'teepe', 'kamna', 'ahmann', 'rinehimer', 'korhonen', 'heiman', 'kuhar', 'perrera', 'ororke', 'tremore', 'kamada', 'paquin', 'ramnauth', 'wun', 'minarik', 'ruhter', 'ekman', 'mantano', 'akhtar', 'paramo', 'hawke', 'pruit', 'highman', 'hamming', 'izak', 'kuo', 'kuk', 'mahuna', 'mahung', 'earp', 'huong', 'weare', 'ting', 'tine', 'tinn', 'traphagen', 'hoene', 'taurino', 'toper', 'oharra', 'maxim', 'maxin', 'ghia', 'orem', 'oree', 'kaing', 'nakamori', 'rittie', 'tumaneng', 'kaumo', 'hokkanen', 'makino', 'noun', 'hopko', 'hopke', 'monitor', 'maheu', 'maher', 'wainwright', 'koerper', 'keeman', 'aragon', 'naputi', 'popik', 'nwakanma', 'kwok', 'arnot', 'arnow', 'moreau', 'annamae', 'mahunik', 'kuhn', 'timme', 'imm', 'tuning', 'irion', 'ratigan', 'outram', 'pepe', 'naone', 'heikkinen', 'mank', 'taheri', 'nap', 'korn', 'kavanah', 'fanatia', 'hagene', 'again', 'paneto', 'turnmire', 'ramona', 'hauke', 'meeker', 'pompa', 'noreiga', 'fatima', 'tarango', 'weitnauer', 'krenke', 'heuer', 'keipe', 'whigum', 'turnpaugh', 'pianka', 'eaker', 'keiko', 'oen', 'morario', 'kaer', 'appiah', 'kaopua', 'mohinani', 'hirata', 'orourke', 'mikko', 'mikki', 'aiken', 'martiarena', 'eun', 'itani', 'makar', 'papineau', 'puga', 'mikrot', 'mahurin', 'greenhaw', 'qua', 'kohut', 'megahan', 'tirona', 'knieriem', 'tamiko', 'tamika', 'hopman', 'mukhtar', 'marinko', 'primeaux', 'rump', 'poque', 'keemer', 'maurin', 'oetken', 'tomi', 'toma', 'tome', 'moniot', 'kuning', 'peete', 'prater', 'moquin', 'kurgan', 'parara', 'murph', 'tuite', 'maenpaa', 'hererra', 'pipia', 'patierno', 'patmon', 'ima', 'aukamp', 'quituqua', 'nita', 'koep', 'ehret', 'maxi', 'putman', 'khokher', 'rutkin', 'reimer', 'karpen', 'karper', 'ankenman', 'niki', 'tumpkin', 'texiera', 'kartman', 'reihing', 'kuhne', 'wiatr', 'amateur', 'haifa', 'perea', 'peret', 'when', 'pietrok', 'knoke', 'pora', 'pore', 'henke', 'wanger', 'konik', 'athena', 'minniti', 'kroener', 'reaper', 'kreiger', 'grunau', 'turn', 'turk', 'turi', 'eatmon', 'rajk', 'raja', 'akiko', 'raju', 'wiatrak', 'kaufman', 'martorana', 'week', 'ruper', 'gaughran', 'kirkman', 'ganin', 'ganie', 'mooe', 'mook', 'moor', 'mungin', 'kehm', 'kehn', 'there', 'trear', 'kehr', 'treamer', 'pappa', 'roh', 'aring', 'wreath', 'kinman', 'morgana', 'haar', 'haan', 'haaf', 'hourihan', 'atma', 'mire', 'mira', 'mirr', 'akre', 'rahaman', 'renato', 'renate', 'renata', 'haper', 'umphenour', 'ropka', 'urena', 'garing', 'pankiw', 'moreta', 'ennenga', 'kahrer', 'aman', 'amat', 'amar', 'gotowka', 'inge', 'inga', 'kahre', 'patmore', 'hagemeier', 'krum', 'riek', 'enomoto', 'range', 'konig', 'kataoka', 'mongue', 'rowe', 'hagin', 'tamkin', 'whittman', 'kenan', 'kanan', 'kanai', 'gana', 'gang', 'gani', 'pravata', 'paterniti', 'nagata', 'kington', 'koenig', 'roewe', 'matot', 'app', 'apt', 'rantanen', 'weinheimer', 'roja', 'highnote', 'ouk', 'oun', 'oum', 'our', 'kaur', 'kaup', 'kaut', 'kauk', 'kaui', 'kauo', 'xenia', 'khong', 'roehr', 'hazarika', 'marguerita', 'kreeger', 'reno', 'koehn', 'riihimaki', 'rapanot', 'rhoe', 'montuoro', 'montuori', 'jara', 'tawna', 'wakita', 'nagao', 'nagai', 'giarratano', 'wewerka', 'wiman', 'urankar', 'piao', 'rigoni', 'taneka', 'kienow', 'kotur', 'rainie', 'knie', 'pieper', 'xaimoungkhoun', 'hauptman', 'mantanona', 'katayama', 'teater', 'araki', 'minaai', 'fait', 'herrero', 'herrera', 'naquin', 'taren', 'hoang', 'topi', 'tope', 'wahr', 'heininger', 'krake', 'ewen', 'wanetta', 'ewer', 'knapke', 'knapko', 'unique', 'kurian', 'uknown', 'nanke', 'kempe', 'nanka', 'arata', 'koeppe', 'jaimie', 'mapua', 'prout', 'urreta', 'whigham', 'mahn', 'tear', 'mahe', 'mahr', 'attia', 'iara', 'harutunian', 'heineken', 'mininger', 'kono', 'opunui', 'kone', 'kong', 'quon', 'opaka', 'tuter', 'tuten', 'terhar', 'primeau', 'phenix', 'kahana', 'mangan', 'mangat', 'jirak', 'teena', 'hamman', 'kamara', 'tokunaga', 'torngren', 'rorie', 'reginia', 'honahnie', 'wheaton', 'tangeman', 'reitan', 'kawaiaea', 'kopko', 'kopka', 'kopke', 'tarring', 'mohring', 'kijak', 'aguino', 'kauppi', 'arhart', 'manoni', 'tixier', 'taitt', 'horta', 'guan', 'pierrie', 'mohaupt', 'keehn', 'raap', 'haughton', 'morua', 'manieri', 'wightman', 'joaquina', 'arehart', 'teano']\n"
     ]
    }
   ],
   "source": [
    "print english_misclassified"
   ]
  },
  {
   "cell_type": "markdown",
   "metadata": {},
   "source": [
    "Coding a classifier for road names. Since the road names contain numbers, spaces, hyphens and uppercase letters there's a bit of cleaning to be done on each road name.\n",
    "1. Each roadname is split into a list of words, if there's only one word then it's a list containing only the word.\n",
    "2. A series of tests are applied to each word in the list, if any of the indicators are that it's a Maori word then the function returns True, otherwise it continues on through each word in the name until it either finds a Maori word or runs out of words and returns False.\n",
    "\n",
    "The tests are as follows:\n",
    "1. Is the word in the Maori lexicon?\n",
    "2. Is the word in the English lexicon?\n",
    "3. Does the word contain any letters which do not appear in the Maori alphabet?\n",
    "4. Is the word a number?\n",
    "5. Does the word end in something other than a vowel (all Maori words end in a vowel)?\n",
    "6. Does the word classifier predict the word is Maori?\n",
    "\n",
    "A word is only classified as Maori if it is either in the Maori lexicon OR if it answers no to tests 2-5 AND the word classifier predicts it is Maori. The ultimate aim here is to use the word classifier as little as possible since it is likely to be the most fallible."
   ]
  },
  {
   "cell_type": "code",
   "execution_count": 424,
   "metadata": {
    "collapsed": false
   },
   "outputs": [],
   "source": [
    "def classify_as_maori(word):\n",
    "    word = str(word)\n",
    "    wordlist = word.lower().replace('-',' ').split()\n",
    "    non_maori_letters = set(['b','c','d','f','j','l','q','s','v','x','y','z'])\n",
    "    for word in wordlist:\n",
    "        if word in maori_lexicon:\n",
    "            return 1\n",
    "        elif word in english_lexicon:\n",
    "            pass\n",
    "        elif any((char in non_maori_letters) for char in word):\n",
    "            pass\n",
    "        elif word.isdigit():\n",
    "            pass\n",
    "        elif word[-1] not in ['a','e','i','o','u']:\n",
    "            pass\n",
    "        elif final_model.predict(pd.DataFrame([word2features(word)]).drop([0,1],axis=1).values)==1:\n",
    "            return 1\n",
    "    return 0\n",
    "\n",
    "def classify_as_maori_diagnose(word):\n",
    "    word = str(word)\n",
    "    wordlist = word.lower().replace('-',' ').split()\n",
    "    non_maori_letters = set(['b','c','d','f','j','l','q','s','v','x','y','z'])\n",
    "    for word in wordlist:\n",
    "        if word in maori_lexicon:\n",
    "            print word,1\n",
    "            return True\n",
    "        elif word in english_lexicon:\n",
    "            print word,2\n",
    "            pass\n",
    "        elif any((char in non_maori_letters) for char in word):\n",
    "            print word,3\n",
    "            pass\n",
    "        elif word.isdigit():\n",
    "            print word,4\n",
    "            pass\n",
    "        elif final_model.predict(pd.DataFrame([word2features(word)]).drop([0,1],axis=1).values)==1:\n",
    "            print word,5\n",
    "            return True\n",
    "    return False"
   ]
  },
  {
   "cell_type": "code",
   "execution_count": 276,
   "metadata": {
    "collapsed": false
   },
   "outputs": [
    {
     "name": "stdout",
     "output_type": "stream",
     "text": [
      "twin 5\n"
     ]
    },
    {
     "data": {
      "text/plain": [
       "True"
      ]
     },
     "execution_count": 276,
     "metadata": {},
     "output_type": "execute_result"
    }
   ],
   "source": [
    "classify_as_maori_diagnose('twin')"
   ]
  },
  {
   "cell_type": "code",
   "execution_count": 277,
   "metadata": {
    "collapsed": false
   },
   "outputs": [
    {
     "data": {
      "text/plain": [
       "True"
      ]
     },
     "execution_count": 277,
     "metadata": {},
     "output_type": "execute_result"
    }
   ],
   "source": [
    "def test(x):\n",
    "    for f in x:\n",
    "        if f == 3:\n",
    "            return True\n",
    "        elif f == 4:\n",
    "            pass\n",
    "        elif f%2==0:\n",
    "            return False\n",
    "    return False\n",
    "\n",
    "test([4,3])"
   ]
  },
  {
   "cell_type": "markdown",
   "metadata": {},
   "source": [
    "# NZ Road Names"
   ]
  },
  {
   "cell_type": "markdown",
   "metadata": {},
   "source": [
    "Downloaded the NZ Roads Addressing database https://data.linz.govt.nz"
   ]
  },
  {
   "cell_type": "code",
   "execution_count": 415,
   "metadata": {
    "collapsed": false
   },
   "outputs": [
    {
     "name": "stdout",
     "output_type": "stream",
     "text": [
      "(239732, 3)\n",
      "(75114, 3)\n",
      "   road_id   geometry_class road_type road_name_class full_road_name_ascii  \\\n",
      "0  1770045  Addressing Road   Unknown            Road      Harbour Heights   \n",
      "1  1770050  Addressing Road   Unknown            Road       Stanley Square   \n",
      "2  1770085  Addressing Road   Unknown            Road     Lake Onslow Road   \n",
      "3  1770130  Addressing Road   Unknown            Road       William Street   \n",
      "4  1770136  Addressing Road   Unknown            Road          Ainges Road   \n",
      "\n",
      "  road_name_body_ascii left_territorial_authority right_territorial_authority  \n",
      "0              Harbour               Dunedin City                Dunedin City  \n",
      "1              Stanley               Dunedin City                Dunedin City  \n",
      "2          Lake Onslow     Central Otago District      Central Otago District  \n",
      "3              William               Dunedin City                Dunedin City  \n",
      "4               Ainges           Waitaki District            Waitaki District  \n",
      "(75101, 8)\n",
      "(71763, 8)\n"
     ]
    }
   ],
   "source": [
    "nz_roads_df = pd.read_csv('../data/raw/lds-nz-roads-addressing-CSV/nz-roads-addressing.csv')\n",
    "nz_road_subsections_df = pd.read_csv('../data/raw/lds-nz-roads-subsections-addressing-CSV/nz-roads-subsections-addressing.csv')\n",
    "nz_roads_df.drop(['WKT','full_road_name', 'road_name_label', 'road_name_prefix', 'road_name_body',\n",
    "                  'road_name_type', 'road_name_suffix', 'route_name_body', 'route_name_number',\n",
    "                  'route_name_alpha', 'route_name_suffix', 'road_name_label_ascii'],\n",
    "                 axis=1, inplace=True)\n",
    "nz_road_subsections_df.drop(['WKT', 'road_section_geometry_id', 'road_section_id', 'geometry_class',\n",
    "                             'road_type', 'road_section_type','address_range_road_id', 'full_road_name',\n",
    "                             'road_name_label','full_road_name_ascii', 'road_name_label_ascii',\n",
    "                             'road_name_body_ascii', 'secondary_road_name_ascii','road_name_prefix',\n",
    "                             'road_name_body','road_name_type','road_name_suffix','secondary_road_name',\n",
    "                             'full_route_name', 'secondary_route_name','tertiary_route_name', \n",
    "                             'left_suburb_locality', 'right_suburb_locality','left_town_city', 'right_town_city',\n",
    "                             'left_suburb_locality_ascii','right_suburb_locality_ascii', 'left_town_city_ascii',\n",
    "                             'right_town_city_ascii'],\n",
    "                            axis=1, inplace=True)\n",
    "print nz_road_subsections_df.shape\n",
    "nz_road_subsections_df.drop_duplicates(inplace=True)\n",
    "print nz_road_subsections_df.shape\n",
    "test_df = pd.merge(nz_roads_df, nz_road_subsections_df, how='inner', on='road_id')\n",
    "print test_df.head()\n",
    "print test_df.shape\n",
    "test_df.dropna(inplace=True)\n",
    "print test_df.shape"
   ]
  },
  {
   "cell_type": "code",
   "execution_count": 425,
   "metadata": {
    "collapsed": false
   },
   "outputs": [
    {
     "data": {
      "text/html": [
       "<div>\n",
       "<table border=\"1\" class=\"dataframe\">\n",
       "  <thead>\n",
       "    <tr style=\"text-align: right;\">\n",
       "      <th></th>\n",
       "      <th>road_id</th>\n",
       "      <th>geometry_class</th>\n",
       "      <th>road_type</th>\n",
       "      <th>road_name_class</th>\n",
       "      <th>full_road_name_ascii</th>\n",
       "      <th>road_name_body_ascii</th>\n",
       "      <th>left_territorial_authority</th>\n",
       "      <th>right_territorial_authority</th>\n",
       "      <th>maori_name</th>\n",
       "    </tr>\n",
       "  </thead>\n",
       "  <tbody>\n",
       "    <tr>\n",
       "      <th>0</th>\n",
       "      <td>1770045</td>\n",
       "      <td>Addressing Road</td>\n",
       "      <td>Unknown</td>\n",
       "      <td>Road</td>\n",
       "      <td>Harbour Heights</td>\n",
       "      <td>Harbour</td>\n",
       "      <td>Dunedin City</td>\n",
       "      <td>Dunedin City</td>\n",
       "      <td>0</td>\n",
       "    </tr>\n",
       "    <tr>\n",
       "      <th>1</th>\n",
       "      <td>1770050</td>\n",
       "      <td>Addressing Road</td>\n",
       "      <td>Unknown</td>\n",
       "      <td>Road</td>\n",
       "      <td>Stanley Square</td>\n",
       "      <td>Stanley</td>\n",
       "      <td>Dunedin City</td>\n",
       "      <td>Dunedin City</td>\n",
       "      <td>0</td>\n",
       "    </tr>\n",
       "    <tr>\n",
       "      <th>2</th>\n",
       "      <td>1770085</td>\n",
       "      <td>Addressing Road</td>\n",
       "      <td>Unknown</td>\n",
       "      <td>Road</td>\n",
       "      <td>Lake Onslow Road</td>\n",
       "      <td>Lake Onslow</td>\n",
       "      <td>Central Otago District</td>\n",
       "      <td>Central Otago District</td>\n",
       "      <td>0</td>\n",
       "    </tr>\n",
       "    <tr>\n",
       "      <th>3</th>\n",
       "      <td>1770130</td>\n",
       "      <td>Addressing Road</td>\n",
       "      <td>Unknown</td>\n",
       "      <td>Road</td>\n",
       "      <td>William Street</td>\n",
       "      <td>William</td>\n",
       "      <td>Dunedin City</td>\n",
       "      <td>Dunedin City</td>\n",
       "      <td>0</td>\n",
       "    </tr>\n",
       "    <tr>\n",
       "      <th>4</th>\n",
       "      <td>1770136</td>\n",
       "      <td>Addressing Road</td>\n",
       "      <td>Unknown</td>\n",
       "      <td>Road</td>\n",
       "      <td>Ainges Road</td>\n",
       "      <td>Ainges</td>\n",
       "      <td>Waitaki District</td>\n",
       "      <td>Waitaki District</td>\n",
       "      <td>0</td>\n",
       "    </tr>\n",
       "  </tbody>\n",
       "</table>\n",
       "</div>"
      ],
      "text/plain": [
       "   road_id   geometry_class road_type road_name_class full_road_name_ascii  \\\n",
       "0  1770045  Addressing Road   Unknown            Road      Harbour Heights   \n",
       "1  1770050  Addressing Road   Unknown            Road       Stanley Square   \n",
       "2  1770085  Addressing Road   Unknown            Road     Lake Onslow Road   \n",
       "3  1770130  Addressing Road   Unknown            Road       William Street   \n",
       "4  1770136  Addressing Road   Unknown            Road          Ainges Road   \n",
       "\n",
       "  road_name_body_ascii left_territorial_authority right_territorial_authority  \\\n",
       "0              Harbour               Dunedin City                Dunedin City   \n",
       "1              Stanley               Dunedin City                Dunedin City   \n",
       "2          Lake Onslow     Central Otago District      Central Otago District   \n",
       "3              William               Dunedin City                Dunedin City   \n",
       "4               Ainges           Waitaki District            Waitaki District   \n",
       "\n",
       "   maori_name  \n",
       "0           0  \n",
       "1           0  \n",
       "2           0  \n",
       "3           0  \n",
       "4           0  "
      ]
     },
     "execution_count": 425,
     "metadata": {},
     "output_type": "execute_result"
    }
   ],
   "source": [
    "test_df['maori_name'] = test_df['road_name_body_ascii'].apply(classify_as_maori)\n",
    "test_df.head()"
   ]
  },
  {
   "cell_type": "code",
   "execution_count": 426,
   "metadata": {
    "collapsed": false
   },
   "outputs": [
    {
     "name": "stdout",
     "output_type": "stream",
     "text": [
      "58431\n",
      "13332\n"
     ]
    }
   ],
   "source": [
    "print test_df[test_df['maori_name']==0]['maori_name'].count()\n",
    "print test_df[test_df['maori_name']==1]['maori_name'].count()"
   ]
  },
  {
   "cell_type": "code",
   "execution_count": 447,
   "metadata": {
    "collapsed": false
   },
   "outputs": [
    {
     "name": "stdout",
     "output_type": "stream",
     "text": [
      "left_territorial_authority\n",
      "Area Outside Territorial Authority    0.473684\n",
      "Ashburton District                    0.034696\n",
      "Auckland                              0.146183\n",
      "Buller District                       0.077381\n",
      "Carterton District                    0.183962\n",
      "Central Hawke's Bay District          0.200837\n",
      "Central Otago District                0.065217\n",
      "Chatham Islands Territory             0.484848\n",
      "Christchurch City                     0.076579\n",
      "Clutha District                       0.102375\n",
      "Dunedin City                          0.070662\n",
      "Far North District                    0.379669\n",
      "Gisborne District                     0.353814\n",
      "Gore District                         0.112033\n",
      "Grey District                         0.122841\n",
      "Hamilton City                         0.081310\n",
      "Hastings District                     0.243950\n",
      "Hauraki District                      0.248609\n",
      "Horowhenua District                   0.257554\n",
      "Hurunui District                      0.087883\n",
      "Invercargill City                     0.075843\n",
      "Kaikoura District                     0.286822\n",
      "Kaipara District                      0.308523\n",
      "Kapiti Coast District                 0.358645\n",
      "Kawerau District                      0.117647\n",
      "Lower Hutt City                       0.203796\n",
      "Mackenzie District                    0.104167\n",
      "Manawatu District                     0.266667\n",
      "Marlborough District                  0.145098\n",
      "Masterton District                    0.248337\n",
      "Matamata-Piako District               0.249186\n",
      "Napier City                           0.086624\n",
      "Nelson City                           0.143437\n",
      "New Plymouth District                 0.272441\n",
      "Opotiki District                      0.417112\n",
      "Otorohanga District                   0.487633\n",
      "Palmerston North City                 0.126188\n",
      "Porirua City                          0.244548\n",
      "Queenstown-Lakes District             0.060458\n",
      "Rangitikei District                   0.426667\n",
      "Rotorua District                      0.322476\n",
      "Ruapehu District                      0.609484\n",
      "Selwyn District                       0.045593\n",
      "South Taranaki District               0.400000\n",
      "South Waikato District                0.251055\n",
      "South Wairarapa District              0.224026\n",
      "Southland District                    0.115457\n",
      "Stratford District                    0.415541\n",
      "Tararua District                      0.290155\n",
      "Tasman District                       0.140265\n",
      "Taupo District                        0.552817\n",
      "Tauranga City                         0.184258\n",
      "Thames-Coromandel District            0.298265\n",
      "Timaru District                       0.096190\n",
      "Upper Hutt City                       0.114228\n",
      "Waikato District                      0.218169\n",
      "Waimakariri District                  0.121488\n",
      "Waimate District                      0.103604\n",
      "Waipa District                        0.130102\n",
      "Wairoa District                       0.514589\n",
      "Waitaki District                      0.082121\n",
      "Waitomo District                      0.579515\n",
      "Wellington City                       0.123014\n",
      "Western Bay of Plenty District        0.233596\n",
      "Westland District                     0.139480\n",
      "Whakatane District                    0.409475\n",
      "Whanganui District                    0.315866\n",
      "Whangarei District                    0.291640\n",
      "Name: maori_name, dtype: float64\n"
     ]
    }
   ],
   "source": [
    "district_percent = test_df.groupby(['left_territorial_authority'])['maori_name'].mean()\n",
    "pd.set_option('display.max_rows', len(district_percent))\n",
    "print district_percent\n",
    "pd.reset_option('display.max_rows')"
   ]
  },
  {
   "cell_type": "code",
   "execution_count": 451,
   "metadata": {
    "collapsed": false
   },
   "outputs": [
    {
     "name": "stdout",
     "output_type": "stream",
     "text": [
      "['Rata', 'Te Puke', 'Ben Ohau', 'Ohau', 'Tekapo Powerhouse', 'Manuka', 'Awarima', 'Aorangi', 'Rapuwai', 'Motuariki', 'Pareora Gorge', 'Opuha Dam', 'Opuha Gorge', 'Kea', 'Hakataramea Pass', 'Kirke', 'Opihi Gorge', 'Opihi', 'Otama', 'Pahau Downs', 'Pukaki', 'Roto', 'Ruataniwha', 'Tekapo', 'Wairepo', 'Omahau', 'Totara', 'Matukituki', 'Tekapo-Twizel', 'Fairlie-Tekapo']\n"
     ]
    }
   ],
   "source": [
    "print list(test_df[(test_df['left_territorial_authority']=='Mackenzie District') & (test_df['maori_name']==1)]['road_name_body_ascii'])"
   ]
  },
  {
   "cell_type": "markdown",
   "metadata": {},
   "source": [
    "# Plotting"
   ]
  },
  {
   "cell_type": "code",
   "execution_count": 362,
   "metadata": {
    "collapsed": false
   },
   "outputs": [
    {
     "data": {
      "image/png": "[encoded data removed]",
      "text/plain": [
       "<matplotlib.figure.Figure at 0x136c82650>"
      ]
     },
     "metadata": {},
     "output_type": "display_data"
    }
   ],
   "source": [
    "from mpl_toolkits.basemap import Basemap\n",
    "# create new figure, axes instances.\n",
    "\n",
    "plt.figure(figsize=(12,12))\n",
    "map = Basemap(llcrnrlon=-195,llcrnrlat=-48,urcrnrlon=-180,urcrnrlat=-33, resolution = 'i')\n",
    "\n",
    "map.drawmapboundary(fill_color='blue')\n",
    "#Fill the continents with the land color\n",
    "map.fillcontinents(color='green',lake_color='blue')\n",
    "map.drawcoastlines()\n",
    "plt.show()"
   ]
  },
  {
   "cell_type": "markdown",
   "metadata": {},
   "source": [
    "# Cool road names I came across"
   ]
  },
  {
   "cell_type": "markdown",
   "metadata": {},
   "source": [
    "Erewhon\n",
    "Stratford districts many shakespeare references (Falstaff, Prospero, Claudias, Juliet, Caesar)"
   ]
  },
  {
   "cell_type": "markdown",
   "metadata": {},
   "source": [
    "# Misclassifications"
   ]
  },
  {
   "cell_type": "markdown",
   "metadata": {},
   "source": [
    "Usually very \"vowelly\" words - panorama, horatio, protea\n",
    "Quite a few spanish (Santa Maria) and native american words (Utah, Ontario(?))"
   ]
  }
 ],
 "metadata": {
  "kernelspec": {
   "display_name": "Python 2",
   "language": "python",
   "name": "python2"
  },
  "language_info": {
   "codemirror_mode": {
    "name": "ipython",
    "version": 2
   },
   "file_extension": ".py",
   "mimetype": "text/x-python",
   "name": "python",
   "nbconvert_exporter": "python",
   "pygments_lexer": "ipython2",
   "version": "2.7.13"
  }
 },
 "nbformat": 4,
 "nbformat_minor": 2
}
